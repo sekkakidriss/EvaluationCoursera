{
 "cells": [
  {
   "cell_type": "markdown",
   "id": "1bc9085f-165d-4a86-a57e-9c27b0189ed1",
   "metadata": {},
   "source": [
    "# Data Science Tools and Ecosystem"
   ]
  },
  {
   "cell_type": "markdown",
   "id": "32ede39e-3011-471f-8559-0ebce31def6a",
   "metadata": {},
   "source": [
    "In this notebook, Data Science Tools and Ecosystem are summarized."
   ]
  },
  {
   "cell_type": "markdown",
   "id": "a5a826bc-7521-41a1-8325-980e649cda7b",
   "metadata": {},
   "source": [
    "Objectives:\n",
    "- List popular languages for Data Science\n",
    "- List of libraries used by Data Scientists\n",
    "- Data Science tools\n",
    "- arithmetic expression"
   ]
  },
  {
   "cell_type": "markdown",
   "id": "4dc92a58-f344-400e-a07a-2a63685c3fb1",
   "metadata": {},
   "source": [
    "Some of the popular languages that Data Scientists use are:\n",
    "1. R\n",
    "2. Python\n",
    "3. Julia"
   ]
  },
  {
   "cell_type": "markdown",
   "id": "6a18947b-9382-40b7-ac5f-11c516766953",
   "metadata": {},
   "source": [
    "Some of the commonly used libraries used by Data Scientists include:\n",
    "1. matplotlib \n",
    "2. TensorFlow\n",
    "3. Pandas"
   ]
  },
  {
   "cell_type": "markdown",
   "id": "a391834e-97f6-4d83-a8c8-4f9f906cf320",
   "metadata": {},
   "source": [
    "|Data Science Tools|\n",
    "---------------------\n",
    "|Jupyter|\n",
    "|Rstudio|\n",
    "|Github|"
   ]
  },
  {
   "cell_type": "markdown",
   "id": "d43b0682-ae80-498a-9013-05a1d24db3b6",
   "metadata": {},
   "source": [
    "### Below are a few examples of evaluating arithmetic expressions in Python"
   ]
  },
  {
   "cell_type": "code",
   "execution_count": 3,
   "id": "8bb043ab-837d-4c83-a4ed-dbbc04508e68",
   "metadata": {
    "tags": []
   },
   "outputs": [
    {
     "data": {
      "text/plain": [
       "17"
      ]
     },
     "execution_count": 3,
     "metadata": {},
     "output_type": "execute_result"
    }
   ],
   "source": [
    "# This a simple arithmetic expression to mutiply then add integers\n",
    "(3*4)+5"
   ]
  },
  {
   "cell_type": "code",
   "execution_count": 2,
   "id": "4a7e53ec-6bf3-4542-92a7-293d8c728531",
   "metadata": {
    "tags": []
   },
   "outputs": [
    {
     "data": {
      "text/plain": [
       "3.3333333333333335"
      ]
     },
     "execution_count": 2,
     "metadata": {},
     "output_type": "execute_result"
    }
   ],
   "source": [
    "# This will convert 200 minutes to hours by diving by 60\n",
    "200/60"
   ]
  },
  {
   "cell_type": "markdown",
   "id": "17f4bb97-507a-496c-95e1-cd40ecf00e85",
   "metadata": {},
   "source": [
    "## Author\n",
    "idriss sekkak"
   ]
  },
  {
   "cell_type": "code",
   "execution_count": null,
   "id": "71a2f803-48f3-4bd4-a446-6bb7a84acdc6",
   "metadata": {},
   "outputs": [],
   "source": []
  }
 ],
 "metadata": {
  "kernelspec": {
   "display_name": "Python",
   "language": "python",
   "name": "conda-env-python-py"
  },
  "language_info": {
   "codemirror_mode": {
    "name": "ipython",
    "version": 3
   },
   "file_extension": ".py",
   "mimetype": "text/x-python",
   "name": "python",
   "nbconvert_exporter": "python",
   "pygments_lexer": "ipython3",
   "version": "3.7.12"
  }
 },
 "nbformat": 4,
 "nbformat_minor": 5
}
